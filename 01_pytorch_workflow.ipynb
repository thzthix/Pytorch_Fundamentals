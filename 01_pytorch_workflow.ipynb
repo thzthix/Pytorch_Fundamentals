{
  "nbformat": 4,
  "nbformat_minor": 0,
  "metadata": {
    "colab": {
      "provenance": [],
      "toc_visible": true,
      "gpuType": "T4",
      "authorship_tag": "ABX9TyMpyJ424iJwizfbUn6ntHQr",
      "include_colab_link": true
    },
    "kernelspec": {
      "name": "python3",
      "display_name": "Python 3"
    },
    "language_info": {
      "name": "python"
    },
    "accelerator": "GPU"
  },
  "cells": [
    {
      "cell_type": "markdown",
      "metadata": {
        "id": "view-in-github",
        "colab_type": "text"
      },
      "source": [
        "<a href=\"https://colab.research.google.com/github/thzthix/Pytorch_Fundamentals/blob/main/01_pytorch_workflow.ipynb\" target=\"_parent\"><img src=\"https://colab.research.google.com/assets/colab-badge.svg\" alt=\"Open In Colab\"/></a>"
      ]
    },
    {
      "cell_type": "markdown",
      "source": [
        "#PyTorch Workflow\n",
        "\n",
        "Let's explore a an example PyTorch end-to-end workflow.\n",
        "\n",
        "Resources:\n",
        "* Ground truth notebook - https://github.com/mrdbourke/pytorch-deep-learning/blob/main/01_pytorch_workflow.ipynb\n",
        "* Book version of notebook - https://www.learnpytorch.io/01_pytorch_workflow/\n",
        "* Ask a question - https://github.com/mrdbourke/pytorch-deep-learning/discussions"
      ],
      "metadata": {
        "id": "mfGp8PB4O4Gp"
      }
    },
    {
      "cell_type": "code",
      "source": [
        "what_were_covering = {1:\"data (prepare and reload)\",\n",
        "                      2:\"build model\",\n",
        "                      3:\"fitting the model to data (training)\",\n",
        "                      4:\"making predictions and evaluating a model (inference)\",\n",
        "                      5: \"saving and loading a model\",\n",
        "                      6: \"putting it all together\"}\n",
        "what_were_covering"
      ],
      "metadata": {
        "colab": {
          "base_uri": "https://localhost:8080/"
        },
        "id": "7SjvRM8iY5UV",
        "outputId": "acb07830-c3bf-48a7-e846-7ecba21d79ae"
      },
      "execution_count": 1,
      "outputs": [
        {
          "output_type": "execute_result",
          "data": {
            "text/plain": [
              "{1: 'data (prepare and reload)',\n",
              " 2: 'build model',\n",
              " 3: 'fitting the model to data (training)',\n",
              " 4: 'making predictions and evaluating a model (inference)',\n",
              " 5: 'saving and loading a model',\n",
              " 6: 'putting it all together'}"
            ]
          },
          "metadata": {},
          "execution_count": 1
        }
      ]
    },
    {
      "cell_type": "code",
      "source": [
        "import torch\n",
        "from torch import nn # nn contains all of PyTorch's building blocks for neural networks\n",
        "\n",
        "#Check PyTorch version\n",
        "torch.__version__"
      ],
      "metadata": {
        "colab": {
          "base_uri": "https://localhost:8080/",
          "height": 35
        },
        "id": "RqZ8B6EEZs2z",
        "outputId": "20e9cde7-5891-4171-cb40-0bc9da9e3b0f"
      },
      "execution_count": 2,
      "outputs": [
        {
          "output_type": "execute_result",
          "data": {
            "text/plain": [
              "'2.0.1+cu118'"
            ],
            "application/vnd.google.colaboratory.intrinsic+json": {
              "type": "string"
            }
          },
          "metadata": {},
          "execution_count": 2
        }
      ]
    },
    {
      "cell_type": "markdown",
      "source": [
        "##1. Data (preparing and loading)\n",
        "\n",
        "Data can be almost anything... in machine learning.\n",
        "\n",
        "* Excel spreadsheet\n",
        "* Images of any kind\n",
        "* Videos (YouTube has lots of data...)\n",
        "* DNA\n",
        "* Text\n",
        "\n",
        "Machine learning is a game of two parts:\n",
        "1. Get data into a numerical representation.\n",
        "2. Build a model to learn patterns in that numerical reresentation.\n",
        "\n",
        "To showcase this, let's create some *known* data using the linear regression formula.\n",
        "\n",
        "We'll use a linear regression formula to make a straight line with *known* **parameters**"
      ],
      "metadata": {
        "id": "MqeA0lIia7NB"
      }
    },
    {
      "cell_type": "code",
      "source": [
        "#Create *known* parameters\n",
        "weight= 0.7\n",
        "bias= 0.3\n",
        "\n",
        "#Create\n",
        "start=0\n",
        "end =1\n",
        "step =0.02\n",
        "X = torch.arange(start,end,step).unsqueeze(dim=1)\n",
        "y=weight * X + bias\n",
        "X[:10], y[:10]"
      ],
      "metadata": {
        "colab": {
          "base_uri": "https://localhost:8080/"
        },
        "id": "WYTN200webmn",
        "outputId": "6a443991-40cb-40ca-99df-bf8a9c421cf3"
      },
      "execution_count": 3,
      "outputs": [
        {
          "output_type": "execute_result",
          "data": {
            "text/plain": [
              "(tensor([[0.0000],\n",
              "         [0.0200],\n",
              "         [0.0400],\n",
              "         [0.0600],\n",
              "         [0.0800],\n",
              "         [0.1000],\n",
              "         [0.1200],\n",
              "         [0.1400],\n",
              "         [0.1600],\n",
              "         [0.1800]]),\n",
              " tensor([[0.3000],\n",
              "         [0.3140],\n",
              "         [0.3280],\n",
              "         [0.3420],\n",
              "         [0.3560],\n",
              "         [0.3700],\n",
              "         [0.3840],\n",
              "         [0.3980],\n",
              "         [0.4120],\n",
              "         [0.4260]]))"
            ]
          },
          "metadata": {},
          "execution_count": 3
        }
      ]
    },
    {
      "cell_type": "code",
      "source": [
        "len(X), len(y)"
      ],
      "metadata": {
        "colab": {
          "base_uri": "https://localhost:8080/"
        },
        "id": "a7jlleCBgBF5",
        "outputId": "e27ffd92-37e4-4240-e1df-03c0291b6169"
      },
      "execution_count": 4,
      "outputs": [
        {
          "output_type": "execute_result",
          "data": {
            "text/plain": [
              "(50, 50)"
            ]
          },
          "metadata": {},
          "execution_count": 4
        }
      ]
    },
    {
      "cell_type": "markdown",
      "source": [
        "###Splitting data into training and test sets (one of the most important cocepts in machine learning in general)\n",
        "\n",
        "Let's create a training and test set with our data.\n"
      ],
      "metadata": {
        "id": "Esg_RrcogQmS"
      }
    },
    {
      "cell_type": "code",
      "source": [
        "#  Create a train/test split\n",
        "train_split = int(0.8*len(X))\n",
        "X_train, y_train = X[ :train_split], y[:train_split]\n",
        "X_test, y_test= X[train_split:], y[train_split:]\n",
        "\n",
        "len(X_train),len(y_train), len(X_test), len(y_test)"
      ],
      "metadata": {
        "colab": {
          "base_uri": "https://localhost:8080/"
        },
        "id": "82LU17QXtxai",
        "outputId": "0050f0f4-1d51-45f9-9132-51d9782cad25"
      },
      "execution_count": 5,
      "outputs": [
        {
          "output_type": "execute_result",
          "data": {
            "text/plain": [
              "(40, 40, 10, 10)"
            ]
          },
          "metadata": {},
          "execution_count": 5
        }
      ]
    },
    {
      "cell_type": "markdown",
      "source": [
        "How might we better visualize our data?\n",
        "\n",
        "This is where data explorer's motto comes in!\n",
        "\n",
        "\"Visualize, visualize, visualize!\""
      ],
      "metadata": {
        "id": "MkCDdmdkuJ69"
      }
    },
    {
      "cell_type": "code",
      "source": [
        "import matplotlib.pyplot as plt\n",
        "def plot_predictions (train_data = X_train,\n",
        "                      train_labels=y_train,\n",
        "                      test_data=X_test,\n",
        "                      test_labels=y_test,\n",
        "                      predictions=None):\n",
        "  \"\"\"\n",
        "  Plots training data, test data and compares predictions.\n",
        "  \"\"\"\n",
        "\n",
        "  plt.figure(figsize=(10,7))\n",
        "\n",
        "  #Plot training data in blue\n",
        "  plt.scatter(train_data, train_labels, c=\"b\", s=4, label=\"Training data\")\n",
        "\n",
        "  #Plot test data in green\n",
        "  plt.scatter(test_data, test_labels, c=\"g\", s=4, label= \"Testing data\")\n",
        "\n",
        "  #Are there predictions?\n",
        "  if predictions is not None:\n",
        "    #plot the predictions if thery exist\n",
        "    plt.scatter(test_data, predictions, c=\"r\", s=4, label=\"Predictions\")\n",
        "\n",
        "  #Show the legend\n",
        "  plt.legend(prop={\"size\":14})"
      ],
      "metadata": {
        "id": "1UUBksenPj35"
      },
      "execution_count": 6,
      "outputs": []
    },
    {
      "cell_type": "code",
      "source": [
        "plot_predictions()"
      ],
      "metadata": {
        "colab": {
          "base_uri": "https://localhost:8080/",
          "height": 599
        },
        "id": "Ybmi6SAIT2OD",
        "outputId": "3ebbfb0a-9961-4741-a1e0-f76ebb40b6ad"
      },
      "execution_count": 7,
      "outputs": [
        {
          "output_type": "display_data",
          "data": {
            "text/plain": [
              "<Figure size 1000x700 with 1 Axes>"
            ],
            "image/png": "[encoded data removed]"
          },
          "metadata": {}
        }
      ]
    },
    {
      "cell_type": "markdown",
      "source": [
        "## 2. Build model\n",
        "\n",
        "Our first PyTorch model!\n",
        "\n",
        "This is very exciting... let's do it!\n",
        "\n",
        "Because we're going to be building classes throughout the course, I'd recommend getting familiar with OOP with Python, to do so you can use the following resource from Real Python: https://realpython.com/python3-object-oriented-programming/\n",
        "\n",
        "what our model does:\n",
        "\n",
        "1. Start with random values (weight & bias)\n",
        "2. Look at training data and adjust the random values to better represent (or get closer to) the ideal values (the weight & bias we used to create the data)\n",
        "\n",
        "How does it do so?\n",
        "\n",
        "Through two main algorithms:\n",
        "1. Gradient descent - https://www.youtube.com/watch?v=IHZwWFHWa-w\n",
        "2. Backpropagaion - https://www.youtube.com/watch?v=Ilg3gGewQ5U"
      ],
      "metadata": {
        "id": "KtQ0rKgcUHzL"
      }
    },
    {
      "cell_type": "code",
      "source": [
        "#Create linear regression model class\n",
        "class LinearRegressionModel(nn.Module): #<- almost everything in PyTorch inherits from nn.Module\n",
        "  def __init__(self):\n",
        "    super().__init__()\n",
        "    self.weights = nn.Parameter(torch.rand(1  # <- start with random weights (this will get adjusted as the model learns)\n",
        "                                           ,requires_grad = True,\n",
        "                                           dtype=torch.float))\n",
        "    self.bias = nn.Parameter(torch.rand(1# <- start with random bias (this will get adjusted as the model learns)\n",
        "                                        ,requires_grad=True, dtype = torch.float))\n",
        "\n",
        "  #Forward method to define the computation in the model\n",
        "  def forward(self, x:torch.Tensor) ->torch.Tensor: # <-\"x\" is the input data\n",
        "    return self.weights * x + self.bias #this is the linear regression formula\n",
        "\n"
      ],
      "metadata": {
        "id": "QjW5eMWiZV5e"
      },
      "execution_count": 8,
      "outputs": []
    },
    {
      "cell_type": "markdown",
      "source": [
        "### PyTorch model building essentials\n",
        "\n",
        "* torch.nn - contains all of the buildings for computational graphs (a neural network can be considered a computational graph)\n",
        "* torch.nn.Parameter - what parameters should our moderl try and learn, often a PyTorch layer from torch.nn will set these for us\n",
        "* torch.nn.Module - The base class for all neural network modules, if you subclass this, you should overwrite forward()\n",
        "* torch.optim - this where optimizers in PyTorch live, they will help with gradient descent.\n",
        "* def forward() - All nn.Module subclasses require you to overwrite forward(), this method defines what happens in the forward computation.\n",
        "\n",
        "See more of these seesntial modules via the PyTorch cheatsheet - https://pytorch.org/tutorials/beginner/ptcheat.html"
      ],
      "metadata": {
        "id": "bY4voNAnu14c"
      }
    },
    {
      "cell_type": "markdown",
      "source": [
        "###Checking the contents of out PyTorch model\n",
        "\n",
        "Now we've created a model, let's see what's inside...\n",
        "\n",
        "So we can check our model parameters or what's inside our model using `.parameters()`"
      ],
      "metadata": {
        "id": "7Rk9J_fKvqcq"
      }
    },
    {
      "cell_type": "code",
      "source": [
        "#Create a random seed\n",
        "torch.manual_seed(42)\n",
        "\n",
        "#Create an instance of the model (this is a subclass of nn.Module)\n",
        "model_0 = LinearRegressionModel()\n",
        "\n",
        "#Check out the parameters\n",
        "list(model_0.parameters())"
      ],
      "metadata": {
        "colab": {
          "base_uri": "https://localhost:8080/"
        },
        "id": "LR7Ni0zDBFby",
        "outputId": "3836ae87-9386-4c12-d6cc-db468372f458"
      },
      "execution_count": 9,
      "outputs": [
        {
          "output_type": "execute_result",
          "data": {
            "text/plain": [
              "[Parameter containing:\n",
              " tensor([0.8823], requires_grad=True),\n",
              " Parameter containing:\n",
              " tensor([0.9150], requires_grad=True)]"
            ]
          },
          "metadata": {},
          "execution_count": 9
        }
      ]
    },
    {
      "cell_type": "code",
      "source": [
        "#List named parameters\n",
        "model_0.state_dict()"
      ],
      "metadata": {
        "colab": {
          "base_uri": "https://localhost:8080/"
        },
        "id": "tpA4bAC5BjPw",
        "outputId": "9e445e5a-a84e-44f9-e714-9dc59109f97d"
      },
      "execution_count": 10,
      "outputs": [
        {
          "output_type": "execute_result",
          "data": {
            "text/plain": [
              "OrderedDict([('weights', tensor([0.8823])), ('bias', tensor([0.9150]))])"
            ]
          },
          "metadata": {},
          "execution_count": 10
        }
      ]
    },
    {
      "cell_type": "code",
      "source": [
        "weight, bias"
      ],
      "metadata": {
        "colab": {
          "base_uri": "https://localhost:8080/"
        },
        "id": "3mvB_jBADEVk",
        "outputId": "ef6e365f-1e95-4e65-b9d2-a66cb8a75bf5"
      },
      "execution_count": 11,
      "outputs": [
        {
          "output_type": "execute_result",
          "data": {
            "text/plain": [
              "(0.7, 0.3)"
            ]
          },
          "metadata": {},
          "execution_count": 11
        }
      ]
    },
    {
      "cell_type": "markdown",
      "source": [
        "### Making prediction using `torch.inference_mode()`\n",
        "\n",
        "To check out model's predictive power, let's see how well it predicts `y_test` based on `X_test`.\n",
        "\n",
        "When we pass data through our model, it's going to run it through the `forward()` method."
      ],
      "metadata": {
        "id": "uirn_NMZDRD7"
      }
    },
    {
      "cell_type": "code",
      "source": [
        "y_preds=model_0(X_test)\n",
        "y_preds"
      ],
      "metadata": {
        "colab": {
          "base_uri": "https://localhost:8080/"
        },
        "id": "4iMLP_GRHpuf",
        "outputId": "c218cf5f-3dbc-44d8-a1b3-03b8c0d0c266"
      },
      "execution_count": 12,
      "outputs": [
        {
          "output_type": "execute_result",
          "data": {
            "text/plain": [
              "tensor([[1.6208],\n",
              "        [1.6385],\n",
              "        [1.6561],\n",
              "        [1.6738],\n",
              "        [1.6914],\n",
              "        [1.7090],\n",
              "        [1.7267],\n",
              "        [1.7443],\n",
              "        [1.7620],\n",
              "        [1.7796]], grad_fn=<AddBackward0>)"
            ]
          },
          "metadata": {},
          "execution_count": 12
        }
      ]
    },
    {
      "cell_type": "code",
      "source": [
        "X_test, y_test"
      ],
      "metadata": {
        "colab": {
          "base_uri": "https://localhost:8080/"
        },
        "id": "L-bwT9z0GIfr",
        "outputId": "e581e2cc-f246-47d4-e530-461c1657f7be"
      },
      "execution_count": 13,
      "outputs": [
        {
          "output_type": "execute_result",
          "data": {
            "text/plain": [
              "(tensor([[0.8000],\n",
              "         [0.8200],\n",
              "         [0.8400],\n",
              "         [0.8600],\n",
              "         [0.8800],\n",
              "         [0.9000],\n",
              "         [0.9200],\n",
              "         [0.9400],\n",
              "         [0.9600],\n",
              "         [0.9800]]),\n",
              " tensor([[0.8600],\n",
              "         [0.8740],\n",
              "         [0.8880],\n",
              "         [0.9020],\n",
              "         [0.9160],\n",
              "         [0.9300],\n",
              "         [0.9440],\n",
              "         [0.9580],\n",
              "         [0.9720],\n",
              "         [0.9860]]))"
            ]
          },
          "metadata": {},
          "execution_count": 13
        }
      ]
    },
    {
      "cell_type": "code",
      "source": [
        "#Make predictions with model\n",
        "with torch.inference_mode():\n",
        "  y_preds = model_0(X_test)\n",
        "\n",
        "#You can also do dsomething similar with torch.no_grad(), However, torch.inference_mode() is preferred\n",
        "\n",
        "y_preds"
      ],
      "metadata": {
        "colab": {
          "base_uri": "https://localhost:8080/"
        },
        "id": "BIHXxe4uFohf",
        "outputId": "3d29072e-4023-4846-eb7c-8566408e7d22"
      },
      "execution_count": 14,
      "outputs": [
        {
          "output_type": "execute_result",
          "data": {
            "text/plain": [
              "tensor([[1.6208],\n",
              "        [1.6385],\n",
              "        [1.6561],\n",
              "        [1.6738],\n",
              "        [1.6914],\n",
              "        [1.7090],\n",
              "        [1.7267],\n",
              "        [1.7443],\n",
              "        [1.7620],\n",
              "        [1.7796]])"
            ]
          },
          "metadata": {},
          "execution_count": 14
        }
      ]
    },
    {
      "cell_type": "markdown",
      "source": [
        "See more on inference mode here - https://twitter.com/PyTorch/status/1437838231505096708?s=20"
      ],
      "metadata": {
        "id": "ismnFMj6I7hp"
      }
    },
    {
      "cell_type": "code",
      "source": [
        "plot_predictions(predictions=y_preds)"
      ],
      "metadata": {
        "colab": {
          "base_uri": "https://localhost:8080/",
          "height": 599
        },
        "id": "Q48LHbF7GDiP",
        "outputId": "6e9236ea-8360-47ed-835e-0648aacd1271"
      },
      "execution_count": 15,
      "outputs": [
        {
          "output_type": "display_data",
          "data": {
            "text/plain": [
              "<Figure size 1000x700 with 1 Axes>"
            ],
            "image/png": "[encoded data removed]"
          },
          "metadata": {}
        }
      ]
    },
    {
      "cell_type": "markdown",
      "source": [
        "## 3. Train model\n",
        "\n",
        "The whole idea of training is for a model to move from some *unknown* parameters (these may be random) to some *known* parameters.\n",
        "\n",
        "Or in other words from a poor representation of the data to a better representation of the data.\n",
        "\n",
        "One way to measure how poor or how wrong your models predictions are is to use a loss function.\n",
        "\n",
        "* Note: Loss function may also be called cost function or criterion in different areas. For our case, we're going to refer to it as a loss funtcion.\n",
        "\n",
        "* **Loss function:** A function to measure how wrong your model's predictions are to rhe ideal outputs, lower is better.\n",
        "\n",
        "* **Optimizer**: Takes into account the loss of a model and adjust the model's parameters (e.g. weight & bias in our case) to improve the loss function. - https://pytorch.org/docs/stable/optim.html\n",
        "  * Inside The optimizer y'll often have to set two parameters:\n",
        "    * `params` - the model parameters you'd like to optimize, for example `params=model_0.parameters()`\n",
        "    * `lr` (learning rate) - the learning rate is a hyperparameter that defines how big/small the optimizer changes the parameters with each step (a small `lr` results in small changes, a large `lr` results in large changes)\n",
        "\n",
        "And specifically for PyTorch, we need:\n",
        "* A training loop\n",
        "* A test loop"
      ],
      "metadata": {
        "id": "RG4XHnJjHOC7"
      }
    },
    {
      "cell_type": "code",
      "source": [
        "#Setup a loss function\n",
        "loss_fn = nn.L1Loss()\n",
        "\n",
        "#Setup an optimizer (stichastic gradient descent)\n",
        "optimizer = torch.optim.SGD(params = model_0.parameters(),\n",
        "                            lr = 0.01) # lr = learning rate = powwibly the most important hyperparameter you can set"
      ],
      "metadata": {
        "id": "wmuhNS1dMUi5"
      },
      "execution_count": 16,
      "outputs": []
    },
    {
      "cell_type": "code",
      "source": [
        "loss_fn"
      ],
      "metadata": {
        "colab": {
          "base_uri": "https://localhost:8080/"
        },
        "id": "rL0DLuPGcBkr",
        "outputId": "5e7f6948-6c47-4f63-993d-1952a1f884f0"
      },
      "execution_count": 17,
      "outputs": [
        {
          "output_type": "execute_result",
          "data": {
            "text/plain": [
              "L1Loss()"
            ]
          },
          "metadata": {},
          "execution_count": 17
        }
      ]
    },
    {
      "cell_type": "code",
      "source": [
        "#Check out out model's parameters (a parameter is a value that the model sets itself)\n",
        "model_0.state_dict()"
      ],
      "metadata": {
        "colab": {
          "base_uri": "https://localhost:8080/"
        },
        "id": "7zIU5rIicC2S",
        "outputId": "e7baca61-7f96-4075-91f2-6971194094df"
      },
      "execution_count": 18,
      "outputs": [
        {
          "output_type": "execute_result",
          "data": {
            "text/plain": [
              "OrderedDict([('weights', tensor([0.8823])), ('bias', tensor([0.9150]))])"
            ]
          },
          "metadata": {},
          "execution_count": 18
        }
      ]
    },
    {
      "cell_type": "markdown",
      "source": [
        "**Q:** Which function and optimizer should I use?\n",
        "\n",
        "**A:** This will be problem specific. But with experience, you'll get idea of what works and what doesn't with your particular problem set.\n",
        "\n",
        "For example, for a regression problem (like ours), a loss function of `nn.L1loss()` and an optimizer like `torch.optim.SGD()` will suffice.\n",
        "\n",
        "But for a classification problem like classifying whether a photo is of a dog or a cat, you'll likely want to use a loss function of `nn.BCELoss()` (binary cross entropy loss)."
      ],
      "metadata": {
        "id": "R1R5PC5Jebjh"
      }
    },
    {
      "cell_type": "markdown",
      "source": [
        "### Building a training loop (and a testing loop) in PyTorch\n",
        "\n",
        "A couple of things we need in a training loop:\n",
        "0. Loop through the data and do...\n",
        "1. Forward pass (this involves data moving through our model's `forward()` functions) to make predictions on data - also called forward propagation\n",
        "2. Calculate the the loss (compare forward pass predictions to ground truth labels)\n",
        "3. Optimizer zero grad\n",
        "4. Loss backward - move backwards through the network to calculate the gradients of each of the parameters of our model with respect to the loss (**backpropagation**)\n",
        "5. Optimizer step - use the optizer to adjust out model's parameters to try and improve the loss (**gradient descent**)"
      ],
      "metadata": {
        "id": "JSSgq5jw96Mp"
      }
    },
    {
      "cell_type": "code",
      "source": [
        "torch.manual_seed(42)\n",
        "# Track different values\n",
        "epoch_count=[]\n",
        "loss_values=[]\n",
        "test_loss_values=[]\n",
        "\n",
        "#An epoch is one loop through the data... (this is a hyperparameter because we've set it ourselves)\n",
        "epochs =200\n",
        "###training\n",
        "#0. Loop through the data\n",
        "for (epoch) in range (epochs):\n",
        "  #Set the model to training mode\n",
        "  model_0.train()\n",
        "  #1. Forward pass\n",
        "  y_pred = model_0(X_train)\n",
        "  #2. Calculate the loss\n",
        "  loss = loss_fn(y_pred, y_train)\n",
        "  #3. Optimizer zero grad\n",
        "  optimizer.zero_grad()\n",
        "  #4. Perform backpropagation on the loss with respect to the parameters of the model\n",
        "  loss.backward()\n",
        "  #5. Step the optimizer (perform gradient descent)\n",
        "  optimizer.step()\n",
        "  ###Testing\n",
        "  model_0.eval() #turns off different settings in the model not needed for evaluation/testing (dropout/batch norm layers)\n",
        "  with torch.inference_mode(): #turns off gradient tracking & a couple more things behind the secenes,\n",
        "  #with torch.no_grad(): You may also see torch.no_grad() in older PyTorch code\n",
        "  #1. Do the forward pass\n",
        "    test_pred = model_0(X_test)\n",
        "\n",
        "  #2. Calculate the loss\n",
        "    test_loss = loss_fn(test_pred, y_test)\n",
        "\n",
        "  #Print out what's happenin'\n",
        "  if epoch % 10 ==0:\n",
        "    epoch_count.append(epoch)\n",
        "    loss_values.append(loss)\n",
        "    test_loss_values.append(test_loss)\n",
        "    print(f\"Epoch: {epoch} | Loss: {loss} | Test loss: {test_loss}\")\n",
        "    #Print out model state_dict()\n",
        "    print(model_0.state_dict())\n"
      ],
      "metadata": {
        "id": "M2PvmuyFzyxd",
        "colab": {
          "base_uri": "https://localhost:8080/"
        },
        "outputId": "cbc92905-f5df-41ec-ceb2-42382a708cb3"
      },
      "execution_count": 19,
      "outputs": [
        {
          "output_type": "stream",
          "name": "stdout",
          "text": [
            "Epoch: 0 | Loss: 0.6860889196395874 | Test loss: 0.7637526988983154\n",
            "OrderedDict([('weights', tensor([0.8784])), ('bias', tensor([0.9050]))])\n",
            "Epoch: 10 | Loss: 0.5708791017532349 | Test loss: 0.6290428042411804\n",
            "OrderedDict([('weights', tensor([0.8394])), ('bias', tensor([0.8050]))])\n",
            "Epoch: 20 | Loss: 0.45566922426223755 | Test loss: 0.4943329691886902\n",
            "OrderedDict([('weights', tensor([0.8004])), ('bias', tensor([0.7050]))])\n",
            "Epoch: 30 | Loss: 0.34045934677124023 | Test loss: 0.35962313413619995\n",
            "OrderedDict([('weights', tensor([0.7614])), ('bias', tensor([0.6050]))])\n",
            "Epoch: 40 | Loss: 0.2252494841814041 | Test loss: 0.2249133139848709\n",
            "OrderedDict([('weights', tensor([0.7224])), ('bias', tensor([0.5050]))])\n",
            "Epoch: 50 | Loss: 0.1100396141409874 | Test loss: 0.09020347893238068\n",
            "OrderedDict([('weights', tensor([0.6834])), ('bias', tensor([0.4050]))])\n",
            "Epoch: 60 | Loss: 0.009724985808134079 | Test loss: 0.020998019725084305\n",
            "OrderedDict([('weights', tensor([0.6539])), ('bias', tensor([0.3200]))])\n",
            "Epoch: 70 | Loss: 0.006216754671186209 | Test loss: 0.014099234715104103\n",
            "OrderedDict([('weights', tensor([0.6707])), ('bias', tensor([0.3120]))])\n",
            "Epoch: 80 | Loss: 0.002788322512060404 | Test loss: 0.005826681852340698\n",
            "OrderedDict([('weights', tensor([0.6878])), ('bias', tensor([0.3050]))])\n",
            "Epoch: 90 | Loss: 0.007095950655639172 | Test loss: 0.00754010071977973\n",
            "OrderedDict([('weights', tensor([0.6938])), ('bias', tensor([0.2980]))])\n",
            "Epoch: 100 | Loss: 0.007095950655639172 | Test loss: 0.00754010071977973\n",
            "OrderedDict([('weights', tensor([0.6938])), ('bias', tensor([0.2980]))])\n",
            "Epoch: 110 | Loss: 0.007095950655639172 | Test loss: 0.00754010071977973\n",
            "OrderedDict([('weights', tensor([0.6938])), ('bias', tensor([0.2980]))])\n",
            "Epoch: 120 | Loss: 0.007095950655639172 | Test loss: 0.00754010071977973\n",
            "OrderedDict([('weights', tensor([0.6938])), ('bias', tensor([0.2980]))])\n",
            "Epoch: 130 | Loss: 0.007095950655639172 | Test loss: 0.00754010071977973\n",
            "OrderedDict([('weights', tensor([0.6938])), ('bias', tensor([0.2980]))])\n",
            "Epoch: 140 | Loss: 0.007095950655639172 | Test loss: 0.00754010071977973\n",
            "OrderedDict([('weights', tensor([0.6938])), ('bias', tensor([0.2980]))])\n",
            "Epoch: 150 | Loss: 0.007095950655639172 | Test loss: 0.00754010071977973\n",
            "OrderedDict([('weights', tensor([0.6938])), ('bias', tensor([0.2980]))])\n",
            "Epoch: 160 | Loss: 0.007095950655639172 | Test loss: 0.00754010071977973\n",
            "OrderedDict([('weights', tensor([0.6938])), ('bias', tensor([0.2980]))])\n",
            "Epoch: 170 | Loss: 0.007095950655639172 | Test loss: 0.00754010071977973\n",
            "OrderedDict([('weights', tensor([0.6938])), ('bias', tensor([0.2980]))])\n",
            "Epoch: 180 | Loss: 0.007095950655639172 | Test loss: 0.00754010071977973\n",
            "OrderedDict([('weights', tensor([0.6938])), ('bias', tensor([0.2980]))])\n",
            "Epoch: 190 | Loss: 0.007095950655639172 | Test loss: 0.00754010071977973\n",
            "OrderedDict([('weights', tensor([0.6938])), ('bias', tensor([0.2980]))])\n"
          ]
        }
      ]
    },
    {
      "cell_type": "code",
      "source": [
        "model_0.state_dict()"
      ],
      "metadata": {
        "colab": {
          "base_uri": "https://localhost:8080/"
        },
        "id": "AI445qOzs-9j",
        "outputId": "d05cfc44-9795-45b3-8bd5-490408ae80d3"
      },
      "execution_count": 20,
      "outputs": [
        {
          "output_type": "execute_result",
          "data": {
            "text/plain": [
              "OrderedDict([('weights', tensor([0.6977])), ('bias', tensor([0.3080]))])"
            ]
          },
          "metadata": {},
          "execution_count": 20
        }
      ]
    },
    {
      "cell_type": "code",
      "source": [
        "weight,bias"
      ],
      "metadata": {
        "colab": {
          "base_uri": "https://localhost:8080/"
        },
        "id": "ywDlucVVtLvT",
        "outputId": "56864cd8-b1ad-4d70-b59f-bd0257590bfe"
      },
      "execution_count": 21,
      "outputs": [
        {
          "output_type": "execute_result",
          "data": {
            "text/plain": [
              "(0.7, 0.3)"
            ]
          },
          "metadata": {},
          "execution_count": 21
        }
      ]
    },
    {
      "cell_type": "code",
      "source": [
        "plot_predictions(predictions = y_preds)"
      ],
      "metadata": {
        "colab": {
          "base_uri": "https://localhost:8080/",
          "height": 599
        },
        "id": "KA0UrZMEtN16",
        "outputId": "926a3f26-a0b5-4e07-f156-1a10dd50a27c"
      },
      "execution_count": 22,
      "outputs": [
        {
          "output_type": "display_data",
          "data": {
            "text/plain": [
              "<Figure size 1000x700 with 1 Axes>"
            ],
            "image/png": "[encoded data removed]"
          },
          "metadata": {}
        }
      ]
    },
    {
      "cell_type": "code",
      "source": [
        "import numpy as np\n",
        "#Plot the loss curves\n",
        "plt.plot(epoch_count, np.array(torch.tensor(loss_values).numpy()), label= \"Train loss\")\n",
        "plt.plot(epoch_count, test_loss_values, label= \"Test loss\")\n",
        "plt.title(\"Training and test loss curves\")\n",
        "plt.ylabel(\"Loss\")\n",
        "plt.xlabel(\"Epochs\")\n",
        "plt.legend();"
      ],
      "metadata": {
        "colab": {
          "base_uri": "https://localhost:8080/",
          "height": 472
        },
        "id": "xGLvypRjL1q2",
        "outputId": "fb0c88d1-ce1b-41b6-f9d0-f925f10dc15d"
      },
      "execution_count": 23,
      "outputs": [
        {
          "output_type": "display_data",
          "data": {
            "text/plain": [
              "<Figure size 640x480 with 1 Axes>"
            ],
            "image/png": "[encoded data removed]"
          },
          "metadata": {}
        }
      ]
    },
    {
      "cell_type": "code",
      "source": [
        "with torch.inference_mode():\n",
        "  y_preds_new = model_0(X_test)"
      ],
      "metadata": {
        "id": "GjdBPvRiu-Dr"
      },
      "execution_count": 24,
      "outputs": []
    },
    {
      "cell_type": "code",
      "source": [
        "plot_predictions(predictions = y_preds_new)"
      ],
      "metadata": {
        "colab": {
          "base_uri": "https://localhost:8080/",
          "height": 599
        },
        "id": "svj_PDCGvNYL",
        "outputId": "39997c9c-13b1-4f13-c6f3-09b28d32933c"
      },
      "execution_count": 25,
      "outputs": [
        {
          "output_type": "display_data",
          "data": {
            "text/plain": [
              "<Figure size 1000x700 with 1 Axes>"
            ],
            "image/png": "[encoded data removed]"
          },
          "metadata": {}
        }
      ]
    },
    {
      "cell_type": "markdown",
      "source": [
        "##Saving a model in PyTorch\n",
        "\n",
        "There are three main methods you should about for saving and loading models in PyTorch.\n",
        "\n",
        "1. `torch.save()` - allows you save a PyTorch object in Python's pickle format.\n",
        "2. `torch.load()` - allows you load a saved PyTorch object\n",
        "3. `torch.nn.Module.load_state_dict()` - this allows to load a model's saved state dictionary"
      ],
      "metadata": {
        "id": "0OC2YJuZvaAq"
      }
    },
    {
      "cell_type": "code",
      "source": [
        "model_0.state_dict()"
      ],
      "metadata": {
        "colab": {
          "base_uri": "https://localhost:8080/"
        },
        "id": "fJ1PAC8JtDwX",
        "outputId": "542bc863-b43e-4bdd-bc9a-81fb8dbace9b"
      },
      "execution_count": 26,
      "outputs": [
        {
          "output_type": "execute_result",
          "data": {
            "text/plain": [
              "OrderedDict([('weights', tensor([0.6977])), ('bias', tensor([0.3080]))])"
            ]
          },
          "metadata": {},
          "execution_count": 26
        }
      ]
    },
    {
      "cell_type": "code",
      "source": [
        "# Saving our PyTorch model\n",
        "from pathlib import Path\n",
        "\n",
        "#1. Create models directory\n",
        "MODEL_PATH = Path(\"models\")\n",
        "MODEL_PATH.mkdir(parents=True, exist_ok=True)\n",
        "\n",
        "#2. Create model save path\n",
        "MODEL_NAME= \"01_pytorch_workflow_model_0.pth\"\n",
        "MODEL_SAVE_PATH = MODEL_PATH / MODEL_NAME\n",
        "\n",
        "MODEL_SAVE_PATH\n",
        "\n",
        "#3. Save the model state dict\n",
        "print(f\"Saving model to: {MODEL_SAVE_PATH}\")\n",
        "torch.save(obj =model_0.state_dict(),f=MODEL_SAVE_PATH)"
      ],
      "metadata": {
        "colab": {
          "base_uri": "https://localhost:8080/"
        },
        "id": "38Xc6nZJuqdj",
        "outputId": "76180e2c-74fd-414b-f040-f53b57e20a90"
      },
      "execution_count": 27,
      "outputs": [
        {
          "output_type": "stream",
          "name": "stdout",
          "text": [
            "Saving model to: models/01_pytorch_workflow_model_0.pth\n"
          ]
        }
      ]
    },
    {
      "cell_type": "code",
      "source": [
        "! ls -l models"
      ],
      "metadata": {
        "colab": {
          "base_uri": "https://localhost:8080/"
        },
        "id": "LVAwCwJIy500",
        "outputId": "12f528ae-c7c9-4b5e-b53a-76233eb2a011"
      },
      "execution_count": 28,
      "outputs": [
        {
          "output_type": "stream",
          "name": "stdout",
          "text": [
            "total 4\n",
            "-rw-r--r-- 1 root root 1207 Aug 21 12:34 01_pytorch_workflow_model_0.pth\n"
          ]
        }
      ]
    },
    {
      "cell_type": "markdown",
      "source": [
        "## Loading a PyTorch model\n",
        "Since we saved our model's `state_dict()` rather the entire model, we'll create a new instance of our model class and load the saved `state_dict()` into that."
      ],
      "metadata": {
        "id": "R3SPjXEL0UuI"
      }
    },
    {
      "cell_type": "code",
      "source": [
        "model_0.state_dict()"
      ],
      "metadata": {
        "id": "NMIfVLIY3OIP",
        "colab": {
          "base_uri": "https://localhost:8080/"
        },
        "outputId": "ed94df5a-7c1d-4b70-c9d2-73be83747fc9"
      },
      "execution_count": 29,
      "outputs": [
        {
          "output_type": "execute_result",
          "data": {
            "text/plain": [
              "OrderedDict([('weights', tensor([0.6977])), ('bias', tensor([0.3080]))])"
            ]
          },
          "metadata": {},
          "execution_count": 29
        }
      ]
    },
    {
      "cell_type": "code",
      "source": [
        "#To load in a saved state_dict we have to instantiate a new instance of our model class\n",
        "loaded_model_0 = LinearRegressionModel()\n",
        "\n",
        "#load the saved state_dict of model_0 (this will update the new instance with updated parameters)\n",
        "loaded_model_0.load_state_dict(torch.load(f=MODEL_SAVE_PATH))"
      ],
      "metadata": {
        "colab": {
          "base_uri": "https://localhost:8080/"
        },
        "id": "twNxm4fDw6mV",
        "outputId": "4d82ba6d-cbac-478b-fa3e-fc576ae0070c"
      },
      "execution_count": 30,
      "outputs": [
        {
          "output_type": "execute_result",
          "data": {
            "text/plain": [
              "<All keys matched successfully>"
            ]
          },
          "metadata": {},
          "execution_count": 30
        }
      ]
    },
    {
      "cell_type": "code",
      "source": [
        "loaded_model_0.state_dict()"
      ],
      "metadata": {
        "colab": {
          "base_uri": "https://localhost:8080/"
        },
        "id": "Z8e9820uxf5v",
        "outputId": "8fe80253-9587-4a76-ada1-ec5fae9db284"
      },
      "execution_count": 31,
      "outputs": [
        {
          "output_type": "execute_result",
          "data": {
            "text/plain": [
              "OrderedDict([('weights', tensor([0.6977])), ('bias', tensor([0.3080]))])"
            ]
          },
          "metadata": {},
          "execution_count": 31
        }
      ]
    },
    {
      "cell_type": "code",
      "source": [
        "#Make some predictions with our loaded model\n",
        "loaded_model_0.eval()\n",
        "with torch.inference_mode():\n",
        "  loaded_model_preds = loaded_model_0(X_test)\n",
        "loaded_model_preds"
      ],
      "metadata": {
        "colab": {
          "base_uri": "https://localhost:8080/"
        },
        "id": "Y4ozKOXwyr4Q",
        "outputId": "cc2933e7-20d3-4ff0-9ae2-379ffa91925b"
      },
      "execution_count": 32,
      "outputs": [
        {
          "output_type": "execute_result",
          "data": {
            "text/plain": [
              "tensor([[0.8661],\n",
              "        [0.8801],\n",
              "        [0.8940],\n",
              "        [0.9080],\n",
              "        [0.9220],\n",
              "        [0.9359],\n",
              "        [0.9499],\n",
              "        [0.9638],\n",
              "        [0.9778],\n",
              "        [0.9917]])"
            ]
          },
          "metadata": {},
          "execution_count": 32
        }
      ]
    },
    {
      "cell_type": "code",
      "source": [
        "#Make some models preds\n",
        "model_0.eval()\n",
        "with torch.inference_mode():\n",
        "  y_preds = model_0(X_test)\n",
        "y_preds"
      ],
      "metadata": {
        "colab": {
          "base_uri": "https://localhost:8080/"
        },
        "id": "vVNk6Mudzu5O",
        "outputId": "2dee5da3-6a10-4264-e423-4899fb816796"
      },
      "execution_count": 33,
      "outputs": [
        {
          "output_type": "execute_result",
          "data": {
            "text/plain": [
              "tensor([[0.8661],\n",
              "        [0.8801],\n",
              "        [0.8940],\n",
              "        [0.9080],\n",
              "        [0.9220],\n",
              "        [0.9359],\n",
              "        [0.9499],\n",
              "        [0.9638],\n",
              "        [0.9778],\n",
              "        [0.9917]])"
            ]
          },
          "metadata": {},
          "execution_count": 33
        }
      ]
    },
    {
      "cell_type": "code",
      "source": [
        "#Compare loaded model preds with original model preds\n",
        "y_preds == loaded_model_preds"
      ],
      "metadata": {
        "colab": {
          "base_uri": "https://localhost:8080/"
        },
        "id": "HRsFaXL9zMzR",
        "outputId": "9adee0bb-84cb-4f0c-9b2d-3958d2dd406d"
      },
      "execution_count": 34,
      "outputs": [
        {
          "output_type": "execute_result",
          "data": {
            "text/plain": [
              "tensor([[True],\n",
              "        [True],\n",
              "        [True],\n",
              "        [True],\n",
              "        [True],\n",
              "        [True],\n",
              "        [True],\n",
              "        [True],\n",
              "        [True],\n",
              "        [True]])"
            ]
          },
          "metadata": {},
          "execution_count": 34
        }
      ]
    },
    {
      "cell_type": "markdown",
      "source": [
        "##6. Putting it all together\n",
        "\n",
        "Let's g oback trough the steps above and see it all in one place."
      ],
      "metadata": {
        "id": "Pu9XyRz4zbXe"
      }
    },
    {
      "cell_type": "code",
      "source": [
        "#Import PyTorch and matplotlib\n",
        "import torch\n",
        "from torch import nn\n",
        "import matplotlib.pyplot as plt\n",
        "\n",
        "#Check PyTorch version\n",
        "torch.__version__"
      ],
      "metadata": {
        "colab": {
          "base_uri": "https://localhost:8080/",
          "height": 35
        },
        "id": "noAbQ5AS2SAu",
        "outputId": "28380767-ecb2-47af-90b9-7943de45163e"
      },
      "execution_count": 35,
      "outputs": [
        {
          "output_type": "execute_result",
          "data": {
            "text/plain": [
              "'2.0.1+cu118'"
            ],
            "application/vnd.google.colaboratory.intrinsic+json": {
              "type": "string"
            }
          },
          "metadata": {},
          "execution_count": 35
        }
      ]
    },
    {
      "cell_type": "markdown",
      "source": [
        "Create device-agnostic code.\n",
        "\n",
        "This means if we've got access to a GPU, our code will use it (for potentially faster computing).\n",
        "\n",
        "If nno GPU is available, the code will default to sing CPU."
      ],
      "metadata": {
        "id": "uNCZlO7_3L8G"
      }
    },
    {
      "cell_type": "code",
      "source": [
        "#Setup device angostic code\n",
        "device = \"cuda\" if torch.cuda.is_available() else \"cpu\"\n",
        "print(f\"Using device: {device}\")"
      ],
      "metadata": {
        "colab": {
          "base_uri": "https://localhost:8080/"
        },
        "id": "teNlNCVM3q3A",
        "outputId": "36af1fbf-5008-4647-d74e-32cf1908264b"
      },
      "execution_count": 36,
      "outputs": [
        {
          "output_type": "stream",
          "name": "stdout",
          "text": [
            "Using device: cuda\n"
          ]
        }
      ]
    },
    {
      "cell_type": "markdown",
      "source": [
        "###6.1 Data"
      ],
      "metadata": {
        "id": "EmrhY-f_4AlQ"
      }
    },
    {
      "cell_type": "code",
      "source": [
        "#Create some data using the linear regression formula of y = weight * X + bias\n",
        "weight = 0.7\n",
        "bias =0.3\n",
        "\n",
        "#Create range values\n",
        "start = 0\n",
        "end = 1\n",
        "step = 0.02\n",
        "\n",
        "#Create X and Y (features and labels)\n",
        "X= torch.arange(start, end,step).unsqueeze(dim = 1)#without unsqueeze, errors will pop up.\n",
        "y= weight *X + bias\n",
        "X[:10], y[:10]"
      ],
      "metadata": {
        "colab": {
          "base_uri": "https://localhost:8080/"
        },
        "id": "35eU0FkO8QmC",
        "outputId": "804b52f9-7b97-404a-82bc-362766eae9f0"
      },
      "execution_count": 37,
      "outputs": [
        {
          "output_type": "execute_result",
          "data": {
            "text/plain": [
              "(tensor([[0.0000],\n",
              "         [0.0200],\n",
              "         [0.0400],\n",
              "         [0.0600],\n",
              "         [0.0800],\n",
              "         [0.1000],\n",
              "         [0.1200],\n",
              "         [0.1400],\n",
              "         [0.1600],\n",
              "         [0.1800]]),\n",
              " tensor([[0.3000],\n",
              "         [0.3140],\n",
              "         [0.3280],\n",
              "         [0.3420],\n",
              "         [0.3560],\n",
              "         [0.3700],\n",
              "         [0.3840],\n",
              "         [0.3980],\n",
              "         [0.4120],\n",
              "         [0.4260]]))"
            ]
          },
          "metadata": {},
          "execution_count": 37
        }
      ]
    },
    {
      "cell_type": "code",
      "source": [
        "#Split data\n",
        "train_split = int(0.8*len(X))\n",
        "X_train, y_train = X[:train_split], y[:train_split]\n",
        "X_test, y_test =X[train_split:], y[train_split:]\n",
        "len(X_train), len(y_train), len(X_test), len(y_test)"
      ],
      "metadata": {
        "colab": {
          "base_uri": "https://localhost:8080/"
        },
        "id": "F6_PtFTm9I6w",
        "outputId": "fdd51d6e-2bbe-4c54-f3cc-36528de2a841"
      },
      "execution_count": 38,
      "outputs": [
        {
          "output_type": "execute_result",
          "data": {
            "text/plain": [
              "(40, 40, 10, 10)"
            ]
          },
          "metadata": {},
          "execution_count": 38
        }
      ]
    },
    {
      "cell_type": "code",
      "source": [
        "#plot the data\n",
        "#Note: if you don't have the plot_predictions() function loaded, this will error\n",
        "plot_predictions(X_train, y_train, X_test, y_test)"
      ],
      "metadata": {
        "colab": {
          "base_uri": "https://localhost:8080/",
          "height": 599
        },
        "id": "bflFRugq924N",
        "outputId": "c52fb7e9-90f9-4451-c4a5-5df3dee9351d"
      },
      "execution_count": 39,
      "outputs": [
        {
          "output_type": "display_data",
          "data": {
            "text/plain": [
              "<Figure size 1000x700 with 1 Axes>"
            ],
            "image/png": "[encoded data removed]"
          },
          "metadata": {}
        }
      ]
    },
    {
      "cell_type": "markdown",
      "source": [
        "###6.2 Building a PyTorch Linear model"
      ],
      "metadata": {
        "id": "rf_hy-Jl-NL5"
      }
    },
    {
      "cell_type": "code",
      "source": [
        "class LinearRegressionModel(nn.Module):\n",
        "  def __init__(self):\n",
        "    super().__init__()\n",
        "    self.weight = nn.Parameter(torch.rand(1,requires_grad=True, dtype=torch.float))\n",
        "    self.bias = nn.Parameter(torch.rand(1,requires_grad=True, dtype=torch.float))\n",
        "\n",
        "  def forward(self, x:torch.Tensor)->torch.Tensor:\n",
        "    return self.weight*x+self.bias\n"
      ],
      "metadata": {
        "id": "dLoAoX0Y_mOS"
      },
      "execution_count": 40,
      "outputs": []
    },
    {
      "cell_type": "code",
      "source": [
        "torch.manual_seed(42)\n",
        "model=LinearRegressionModel()\n",
        "list(model.parameters())"
      ],
      "metadata": {
        "colab": {
          "base_uri": "https://localhost:8080/"
        },
        "id": "xQAp2rAVA2M-",
        "outputId": "dba4b725-40b5-4d53-fab6-e7cca2d18040"
      },
      "execution_count": 41,
      "outputs": [
        {
          "output_type": "execute_result",
          "data": {
            "text/plain": [
              "[Parameter containing:\n",
              " tensor([0.8823], requires_grad=True),\n",
              " Parameter containing:\n",
              " tensor([0.9150], requires_grad=True)]"
            ]
          },
          "metadata": {},
          "execution_count": 41
        }
      ]
    },
    {
      "cell_type": "code",
      "source": [
        "y_preds= model(X_train)\n",
        "y_preds"
      ],
      "metadata": {
        "colab": {
          "base_uri": "https://localhost:8080/"
        },
        "id": "pdxmx0uoA_4v",
        "outputId": "e32a67df-9a72-488c-cc44-7bfd71c2a1c0"
      },
      "execution_count": 42,
      "outputs": [
        {
          "output_type": "execute_result",
          "data": {
            "text/plain": [
              "tensor([[0.9150],\n",
              "        [0.9326],\n",
              "        [0.9503],\n",
              "        [0.9679],\n",
              "        [0.9856],\n",
              "        [1.0032],\n",
              "        [1.0209],\n",
              "        [1.0385],\n",
              "        [1.0562],\n",
              "        [1.0738],\n",
              "        [1.0915],\n",
              "        [1.1091],\n",
              "        [1.1267],\n",
              "        [1.1444],\n",
              "        [1.1620],\n",
              "        [1.1797],\n",
              "        [1.1973],\n",
              "        [1.2150],\n",
              "        [1.2326],\n",
              "        [1.2503],\n",
              "        [1.2679],\n",
              "        [1.2856],\n",
              "        [1.3032],\n",
              "        [1.3208],\n",
              "        [1.3385],\n",
              "        [1.3561],\n",
              "        [1.3738],\n",
              "        [1.3914],\n",
              "        [1.4091],\n",
              "        [1.4267],\n",
              "        [1.4444],\n",
              "        [1.4620],\n",
              "        [1.4797],\n",
              "        [1.4973],\n",
              "        [1.5149],\n",
              "        [1.5326],\n",
              "        [1.5502],\n",
              "        [1.5679],\n",
              "        [1.5855],\n",
              "        [1.6032]], grad_fn=<AddBackward0>)"
            ]
          },
          "metadata": {},
          "execution_count": 42
        }
      ]
    },
    {
      "cell_type": "code",
      "source": [
        "with torch.inference_mode():\n",
        "  y_preds=model(X_test)\n"
      ],
      "metadata": {
        "id": "HbVIV8hjGA5-"
      },
      "execution_count": 43,
      "outputs": []
    },
    {
      "cell_type": "code",
      "source": [
        "plot_predictions(predictions=y_preds)"
      ],
      "metadata": {
        "colab": {
          "base_uri": "https://localhost:8080/",
          "height": 599
        },
        "id": "6NBfAxh5GP9Z",
        "outputId": "c609be26-a737-4878-a6c6-61b6f02ab7de"
      },
      "execution_count": 44,
      "outputs": [
        {
          "output_type": "display_data",
          "data": {
            "text/plain": [
              "<Figure size 1000x700 with 1 Axes>"
            ],
            "image/png": "[encoded data removed]"
          },
          "metadata": {}
        }
      ]
    },
    {
      "cell_type": "code",
      "source": [
        "#Create a linear Model by subclassing nn.Module\n",
        "class LinearRegressionModelV2(nn.Module):\n",
        "  def __init__(self):\n",
        "    super().__init__()\n",
        "    #Use nn.Linear() for creating the model parameters / also called: linear transform, probing layer, fully connected layer, dense layer\n",
        "    self.linear_layer = nn.Linear(in_features=1,\n",
        "                                  out_features=1)\n",
        "\n",
        "  #forward() defines the computation in the model\n",
        "  def forward(self,x:torch.Tensor)->torch.Tensor:\n",
        "    return self.linear_layer(x)\n",
        "#Set the manual seed\n",
        "torch.manual_seed(42)\n",
        "model_1 = LinearRegressionModelV2()\n",
        "model_1, model_1.state_dict()"
      ],
      "metadata": {
        "id": "lnBrummPGcT0",
        "colab": {
          "base_uri": "https://localhost:8080/"
        },
        "outputId": "07bdb22e-fc1e-42f1-fc4b-3218b63b711a"
      },
      "execution_count": 48,
      "outputs": [
        {
          "output_type": "execute_result",
          "data": {
            "text/plain": [
              "(LinearRegressionModelV2(\n",
              "   (linear_layer): Linear(in_features=1, out_features=1, bias=True)\n",
              " ),\n",
              " OrderedDict([('linear_layer.weight', tensor([[0.7645]])),\n",
              "              ('linear_layer.bias', tensor([0.8300]))]))"
            ]
          },
          "metadata": {},
          "execution_count": 48
        }
      ]
    },
    {
      "cell_type": "code",
      "source": [
        "#Check the model current device\n",
        "next(model_1.parameters()).device"
      ],
      "metadata": {
        "colab": {
          "base_uri": "https://localhost:8080/"
        },
        "id": "nTMx-jkiKhKU",
        "outputId": "1827e252-cbf5-40af-e5ff-dd5e0095a702"
      },
      "execution_count": 49,
      "outputs": [
        {
          "output_type": "execute_result",
          "data": {
            "text/plain": [
              "device(type='cpu')"
            ]
          },
          "metadata": {},
          "execution_count": 49
        }
      ]
    },
    {
      "cell_type": "code",
      "source": [
        "#Set the model to use the target device\n",
        "model_1.to(device)\n",
        "next(model_1.parameters()).device"
      ],
      "metadata": {
        "colab": {
          "base_uri": "https://localhost:8080/"
        },
        "id": "iRFTR3sLSoIT",
        "outputId": "a8bcc18d-d632-4f57-e542-42a7b8690935"
      },
      "execution_count": 50,
      "outputs": [
        {
          "output_type": "execute_result",
          "data": {
            "text/plain": [
              "device(type='cuda', index=0)"
            ]
          },
          "metadata": {},
          "execution_count": 50
        }
      ]
    },
    {
      "cell_type": "code",
      "source": [
        "model_1.state_dict()"
      ],
      "metadata": {
        "colab": {
          "base_uri": "https://localhost:8080/"
        },
        "id": "lSNaUozUS-zw",
        "outputId": "8c254288-8a55-45b5-fef2-7d694e624443"
      },
      "execution_count": 51,
      "outputs": [
        {
          "output_type": "execute_result",
          "data": {
            "text/plain": [
              "OrderedDict([('linear_layer.weight', tensor([[0.7645]], device='cuda:0')),\n",
              "             ('linear_layer.bias', tensor([0.8300], device='cuda:0'))])"
            ]
          },
          "metadata": {},
          "execution_count": 51
        }
      ]
    },
    {
      "cell_type": "markdown",
      "source": [
        "###6.3 Training\n",
        "\n",
        "For training we need:\n",
        "* Loss function\n",
        "* Optimizer\n",
        "* Training loop\n",
        "* Testing loop"
      ],
      "metadata": {
        "id": "O0HR9hRrU4jb"
      }
    },
    {
      "cell_type": "code",
      "source": [
        "#Setup loss function\n",
        "loss_fn = nn.L1Loss() # same as MAE\n",
        "\n",
        "# Setup our optimizer\n",
        "optimizer = torch.optim.SGD(params=model_1.parameters(), lr=0.01)"
      ],
      "metadata": {
        "id": "tj9_pDlTVesx"
      },
      "execution_count": 52,
      "outputs": []
    },
    {
      "cell_type": "code",
      "source": [
        "#Let's write a training loop\n",
        "torch.manual_seed(42)\n",
        "\n",
        "epochs = 200\n",
        "\n",
        "#Put the data on the target device (device egnostic code for data)\n",
        "X_train = X_train.to(device)\n",
        "y_train = y_train.to(device)\n",
        "X_test = X_test.to(device)\n",
        "y_test = y_test.to(device)\n",
        "\n",
        "for epoch in range (epochs):\n",
        "  model_1.train()\n",
        "\n",
        "  #1. Forward pass\n",
        "  y_pred = model_1(X_train)\n",
        "\n",
        "  #2. Calculate the loss\n",
        "  loss = loss_fn(y_pred, y_train)\n",
        "\n",
        "  #3. Optimizer zero grad\n",
        "  optimizer.zero_grad()\n",
        "\n",
        "  #4. Perform backpropagation\n",
        "  loss.backward()\n",
        "\n",
        "  #5. Optimzer step\n",
        "  optimizer.step()\n",
        "\n",
        "  ### Testing\n",
        "  model_1.eval()\n",
        "  with torch.inference_mode():\n",
        "    test_pred = model_1(X_test)\n",
        "\n",
        "    test_loss = loss_fn(test_pred, y_test)\n",
        "\n",
        "  #print out what's happening\n",
        "\n",
        "  if epoch % 10 ==0:\n",
        "    print(f\"Epoch : {epoch} | Loss:{loss} | Test loss :{test_loss}\")\n",
        "\n"
      ],
      "metadata": {
        "colab": {
          "base_uri": "https://localhost:8080/"
        },
        "id": "uXe4jRAkV6d1",
        "outputId": "ef424822-6290-41ec-92fc-858f041c4545"
      },
      "execution_count": 55,
      "outputs": [
        {
          "output_type": "stream",
          "name": "stdout",
          "text": [
            "Epoch : 0 | Loss:0.5551779866218567 | Test loss :0.5739762187004089\n",
            "Epoch : 10 | Loss:0.439968079328537 | Test loss :0.4392664134502411\n",
            "Epoch : 20 | Loss:0.3247582018375397 | Test loss :0.30455657839775085\n",
            "Epoch : 30 | Loss:0.20954833924770355 | Test loss :0.16984669864177704\n",
            "Epoch : 40 | Loss:0.09433845430612564 | Test loss :0.03513690456748009\n",
            "Epoch : 50 | Loss:0.023886388167738914 | Test loss :0.04784907028079033\n",
            "Epoch : 60 | Loss:0.019956795498728752 | Test loss :0.045803118497133255\n",
            "Epoch : 70 | Loss:0.016517987474799156 | Test loss :0.037530567497015\n",
            "Epoch : 80 | Loss:0.013089174404740334 | Test loss :0.02994490973651409\n",
            "Epoch : 90 | Loss:0.009653178043663502 | Test loss :0.02167237363755703\n",
            "Epoch : 100 | Loss:0.006215683650225401 | Test loss :0.014086711220443249\n",
            "Epoch : 110 | Loss:0.00278724217787385 | Test loss :0.005814164876937866\n",
            "Epoch : 120 | Loss:0.0012645035749301314 | Test loss :0.013801801018416882\n",
            "Epoch : 130 | Loss:0.0012645035749301314 | Test loss :0.013801801018416882\n",
            "Epoch : 140 | Loss:0.0012645035749301314 | Test loss :0.013801801018416882\n",
            "Epoch : 150 | Loss:0.0012645035749301314 | Test loss :0.013801801018416882\n",
            "Epoch : 160 | Loss:0.0012645035749301314 | Test loss :0.013801801018416882\n",
            "Epoch : 170 | Loss:0.0012645035749301314 | Test loss :0.013801801018416882\n",
            "Epoch : 180 | Loss:0.0012645035749301314 | Test loss :0.013801801018416882\n",
            "Epoch : 190 | Loss:0.0012645035749301314 | Test loss :0.013801801018416882\n"
          ]
        }
      ]
    },
    {
      "cell_type": "code",
      "source": [
        "model_1.state_dict()"
      ],
      "metadata": {
        "colab": {
          "base_uri": "https://localhost:8080/"
        },
        "id": "2Y_HC_94ar1o",
        "outputId": "58e37a65-325b-41ad-aa2a-c63eb4b3f9f7"
      },
      "execution_count": 56,
      "outputs": [
        {
          "output_type": "execute_result",
          "data": {
            "text/plain": [
              "OrderedDict([('linear_layer.weight', tensor([[0.6968]], device='cuda:0')),\n",
              "             ('linear_layer.bias', tensor([0.3025], device='cuda:0'))])"
            ]
          },
          "metadata": {},
          "execution_count": 56
        }
      ]
    },
    {
      "cell_type": "markdown",
      "source": [
        "### 6.4 Making and evaluating predictions"
      ],
      "metadata": {
        "id": "7y6x0upomIr3"
      }
    },
    {
      "cell_type": "code",
      "source": [
        "#Turn model into evaluation mode\n",
        "model_1.eval()\n",
        "\n",
        "#Make predictions on the test data\n",
        "with torch.inference_mode():\n",
        "  y_preds = model_1(X_test)\n",
        "y_preds"
      ],
      "metadata": {
        "colab": {
          "base_uri": "https://localhost:8080/"
        },
        "id": "BLFCMVofbvFg",
        "outputId": "b24ba5ea-3623-48f1-ecc6-453649e60c5c"
      },
      "execution_count": 66,
      "outputs": [
        {
          "output_type": "execute_result",
          "data": {
            "text/plain": [
              "tensor([[0.8600],\n",
              "        [0.8739],\n",
              "        [0.8878],\n",
              "        [0.9018],\n",
              "        [0.9157],\n",
              "        [0.9296],\n",
              "        [0.9436],\n",
              "        [0.9575],\n",
              "        [0.9714],\n",
              "        [0.9854]], device='cuda:0')"
            ]
          },
          "metadata": {},
          "execution_count": 66
        }
      ]
    },
    {
      "cell_type": "code",
      "source": [
        "#Check out our model predictions visuallly\n",
        "plot_predictions(predictions=y_preds.cpu())"
      ],
      "metadata": {
        "colab": {
          "base_uri": "https://localhost:8080/",
          "height": 599
        },
        "id": "ZMfWr6ZbesBA",
        "outputId": "31eac3c0-c09a-4a84-b334-31739b6d8eec"
      },
      "execution_count": 67,
      "outputs": [
        {
          "output_type": "display_data",
          "data": {
            "text/plain": [
              "<Figure size 1000x700 with 1 Axes>"
            ],
            "image/png": "[encoded data removed]"
          },
          "metadata": {}
        }
      ]
    },
    {
      "cell_type": "code",
      "source": [
        "model_1.state_dict()"
      ],
      "metadata": {
        "colab": {
          "base_uri": "https://localhost:8080/"
        },
        "id": "coWik3V6oD6y",
        "outputId": "b2fc387c-161e-43ff-a609-c2561ef8c5f3"
      },
      "execution_count": 68,
      "outputs": [
        {
          "output_type": "execute_result",
          "data": {
            "text/plain": [
              "OrderedDict([('linear_layer.weight', tensor([[0.6968]], device='cuda:0')),\n",
              "             ('linear_layer.bias', tensor([0.3025], device='cuda:0'))])"
            ]
          },
          "metadata": {},
          "execution_count": 68
        }
      ]
    },
    {
      "cell_type": "code",
      "source": [
        "#Saving our PyTorcj model\n",
        "from pathlib import Path\n",
        "\n",
        "#1. Create models directory\n",
        "MODEL_PATH=Path(\"models\")\n",
        "MODEL_PATH.mkdir(parents=True, exist_ok=True)\n",
        "\n",
        "#2. Create model save path\n",
        "MODEL_NAME =\"01+pytorch_workflow_model_1.pth\"\n",
        "MODEL_SAVE_PATH = MODEL_PATH / MODEL_NAME\n",
        "\n",
        "MODEL_SAVE_PATH\n",
        "torch.save(obj = model_1.state_dict(), f= MODEL_SAVE_PATH)"
      ],
      "metadata": {
        "id": "tH-MLu55ps0_"
      },
      "execution_count": 70,
      "outputs": []
    },
    {
      "cell_type": "code",
      "source": [
        "! ls -l models"
      ],
      "metadata": {
        "colab": {
          "base_uri": "https://localhost:8080/"
        },
        "id": "MS_ocGm-qVm3",
        "outputId": "e288567c-cd03-4a82-8cfe-a72ac29c30e4"
      },
      "execution_count": 72,
      "outputs": [
        {
          "output_type": "stream",
          "name": "stdout",
          "text": [
            "total 8\n",
            "-rw-r--r-- 1 root root 1207 Aug 21 12:34 01_pytorch_workflow_model_0.pth\n",
            "-rw-r--r-- 1 root root 1271 Aug 21 15:15 01+pytorch_workflow_model_1.pth\n"
          ]
        }
      ]
    },
    {
      "cell_type": "code",
      "source": [
        "#To load in a saved state_dict we have to instantiate a new instance of our model class\n",
        "loaded_model_1 =LinearRegressionModelV2()\n",
        "\n",
        "#load the saved state_dict of model_0 (this will update the new instance with updated parameters)\n",
        "loaded_model_1.load_state_dict(torch.load(f=MODEL_SAVE_PATH))\n"
      ],
      "metadata": {
        "colab": {
          "base_uri": "https://localhost:8080/"
        },
        "id": "MsA0-qZHqn2_",
        "outputId": "9b7088a8-551e-4aef-9d35-c01b7c9a4aea"
      },
      "execution_count": 73,
      "outputs": [
        {
          "output_type": "execute_result",
          "data": {
            "text/plain": [
              "<All keys matched successfully>"
            ]
          },
          "metadata": {},
          "execution_count": 73
        }
      ]
    },
    {
      "cell_type": "code",
      "source": [
        "loaded_model_1.state_dict()"
      ],
      "metadata": {
        "colab": {
          "base_uri": "https://localhost:8080/"
        },
        "id": "J5DJe_P4rqzu",
        "outputId": "8ed7ed46-b2fc-40e4-f04c-802c45c00eec"
      },
      "execution_count": 74,
      "outputs": [
        {
          "output_type": "execute_result",
          "data": {
            "text/plain": [
              "OrderedDict([('linear_layer.weight', tensor([[0.6968]])),\n",
              "             ('linear_layer.bias', tensor([0.3025]))])"
            ]
          },
          "metadata": {},
          "execution_count": 74
        }
      ]
    },
    {
      "cell_type": "code",
      "source": [],
      "metadata": {
        "id": "ck9A2vBWsBFI"
      },
      "execution_count": null,
      "outputs": []
    },
    {
      "cell_type": "code",
      "source": [
        "#Evaluate loaded model\n",
        "loaded_model_1.eval()\n",
        "loaded_model_1.to(device)\n",
        "with torch.inference_mode():\n",
        "  loaded_model_preds = loaded_model_1(X_test)\n",
        "loaded_model_preds"
      ],
      "metadata": {
        "colab": {
          "base_uri": "https://localhost:8080/"
        },
        "id": "JMdFvCUprpjN",
        "outputId": "d5235c62-2922-49f4-dfca-6b9a7cfcd230"
      },
      "execution_count": 76,
      "outputs": [
        {
          "output_type": "execute_result",
          "data": {
            "text/plain": [
              "tensor([[0.8600],\n",
              "        [0.8739],\n",
              "        [0.8878],\n",
              "        [0.9018],\n",
              "        [0.9157],\n",
              "        [0.9296],\n",
              "        [0.9436],\n",
              "        [0.9575],\n",
              "        [0.9714],\n",
              "        [0.9854]], device='cuda:0')"
            ]
          },
          "metadata": {},
          "execution_count": 76
        }
      ]
    },
    {
      "cell_type": "code",
      "source": [
        "#Make some models preds\n",
        "model_1.eval()\n",
        "with torch.inference_mode():\n",
        "  y_preds = model_1(X_test)\n",
        "y_preds"
      ],
      "metadata": {
        "colab": {
          "base_uri": "https://localhost:8080/"
        },
        "id": "_h_gtFhur5SD",
        "outputId": "c05288ae-41d7-41b9-d342-2016e5921c8d"
      },
      "execution_count": 78,
      "outputs": [
        {
          "output_type": "execute_result",
          "data": {
            "text/plain": [
              "tensor([[0.8600],\n",
              "        [0.8739],\n",
              "        [0.8878],\n",
              "        [0.9018],\n",
              "        [0.9157],\n",
              "        [0.9296],\n",
              "        [0.9436],\n",
              "        [0.9575],\n",
              "        [0.9714],\n",
              "        [0.9854]], device='cuda:0')"
            ]
          },
          "metadata": {},
          "execution_count": 78
        }
      ]
    },
    {
      "cell_type": "code",
      "source": [
        "#Compare loaded model preds with original model preds\n",
        "y_preds == loaded_model_preds"
      ],
      "metadata": {
        "colab": {
          "base_uri": "https://localhost:8080/"
        },
        "id": "76UqbuzlsafA",
        "outputId": "82bf3af7-35da-4f20-d1f9-2aabfc0def4d"
      },
      "execution_count": 80,
      "outputs": [
        {
          "output_type": "execute_result",
          "data": {
            "text/plain": [
              "tensor([[True],\n",
              "        [True],\n",
              "        [True],\n",
              "        [True],\n",
              "        [True],\n",
              "        [True],\n",
              "        [True],\n",
              "        [True],\n",
              "        [True],\n",
              "        [True]], device='cuda:0')"
            ]
          },
          "metadata": {},
          "execution_count": 80
        }
      ]
    },
    {
      "cell_type": "code",
      "source": [],
      "metadata": {
        "id": "88VLcq_Wsh5m"
      },
      "execution_count": null,
      "outputs": []
    }
  ]
}